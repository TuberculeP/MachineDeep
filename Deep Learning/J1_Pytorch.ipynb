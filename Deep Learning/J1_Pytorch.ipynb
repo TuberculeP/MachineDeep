{
 "cells": [
  {
   "cell_type": "markdown",
   "metadata": {},
   "source": [
    "# \" On arrête de jouer avec notre caca \"\n",
    "- Prof, 2025"
   ]
  },
  {
   "cell_type": "code",
   "execution_count": 103,
   "metadata": {},
   "outputs": [
    {
     "name": "stdout",
     "output_type": "stream",
     "text": [
      "Requirement already satisfied: torch in ./.venv/lib/python3.11/site-packages (2.5.1)\n",
      "Requirement already satisfied: torchvision in ./.venv/lib/python3.11/site-packages (0.20.1)\n",
      "Requirement already satisfied: torchaudio in ./.venv/lib/python3.11/site-packages (2.5.1)\n",
      "Requirement already satisfied: matplotlib in ./.venv/lib/python3.11/site-packages (3.10.0)\n",
      "Requirement already satisfied: pandas in ./.venv/lib/python3.11/site-packages (2.2.3)\n",
      "Requirement already satisfied: graphviz in ./.venv/lib/python3.11/site-packages (0.20.3)\n",
      "Requirement already satisfied: filelock in ./.venv/lib/python3.11/site-packages (from torch) (3.17.0)\n",
      "Requirement already satisfied: typing-extensions>=4.8.0 in ./.venv/lib/python3.11/site-packages (from torch) (4.12.2)\n",
      "Requirement already satisfied: networkx in ./.venv/lib/python3.11/site-packages (from torch) (3.4.2)\n",
      "Requirement already satisfied: jinja2 in ./.venv/lib/python3.11/site-packages (from torch) (3.1.5)\n",
      "Requirement already satisfied: fsspec in ./.venv/lib/python3.11/site-packages (from torch) (2024.12.0)\n",
      "Requirement already satisfied: sympy==1.13.1 in ./.venv/lib/python3.11/site-packages (from torch) (1.13.1)\n",
      "Requirement already satisfied: mpmath<1.4,>=1.1.0 in ./.venv/lib/python3.11/site-packages (from sympy==1.13.1->torch) (1.3.0)\n",
      "Requirement already satisfied: numpy in ./.venv/lib/python3.11/site-packages (from torchvision) (2.2.2)\n",
      "Requirement already satisfied: pillow!=8.3.*,>=5.3.0 in ./.venv/lib/python3.11/site-packages (from torchvision) (11.1.0)\n",
      "Requirement already satisfied: contourpy>=1.0.1 in ./.venv/lib/python3.11/site-packages (from matplotlib) (1.3.1)\n",
      "Requirement already satisfied: cycler>=0.10 in ./.venv/lib/python3.11/site-packages (from matplotlib) (0.12.1)\n",
      "Requirement already satisfied: fonttools>=4.22.0 in ./.venv/lib/python3.11/site-packages (from matplotlib) (4.55.6)\n",
      "Requirement already satisfied: kiwisolver>=1.3.1 in ./.venv/lib/python3.11/site-packages (from matplotlib) (1.4.8)\n",
      "Requirement already satisfied: packaging>=20.0 in ./.venv/lib/python3.11/site-packages (from matplotlib) (24.2)\n",
      "Requirement already satisfied: pyparsing>=2.3.1 in ./.venv/lib/python3.11/site-packages (from matplotlib) (3.2.1)\n",
      "Requirement already satisfied: python-dateutil>=2.7 in ./.venv/lib/python3.11/site-packages (from matplotlib) (2.9.0.post0)\n",
      "Requirement already satisfied: pytz>=2020.1 in ./.venv/lib/python3.11/site-packages (from pandas) (2024.2)\n",
      "Requirement already satisfied: tzdata>=2022.7 in ./.venv/lib/python3.11/site-packages (from pandas) (2025.1)\n",
      "Requirement already satisfied: six>=1.5 in ./.venv/lib/python3.11/site-packages (from python-dateutil>=2.7->matplotlib) (1.17.0)\n",
      "Requirement already satisfied: MarkupSafe>=2.0 in ./.venv/lib/python3.11/site-packages (from jinja2->torch) (3.0.2)\n"
     ]
    }
   ],
   "source": [
    "!python -m pip install torch torchvision torchaudio matplotlib pandas graphviz"
   ]
  },
  {
   "cell_type": "code",
   "execution_count": 104,
   "metadata": {},
   "outputs": [],
   "source": [
    "import torch\n",
    "from torchvision import datasets\n",
    "import torchvision.transforms as T\n",
    "import matplotlib.pyplot as plt\n",
    "import ssl\n",
    "\n",
    "ssl._create_default_https_context = ssl._create_unverified_context"
   ]
  },
  {
   "cell_type": "code",
   "execution_count": 105,
   "metadata": {},
   "outputs": [],
   "source": [
    "# Importer des données : un dataset préfait (MNIST)\n",
    "\n",
    "training_dataset = datasets.MNIST(\n",
    "    root=\"data\",\n",
    "    train=True,\n",
    "    download=True,\n",
    "    transform=T.ToTensor()\n",
    ")\n",
    "\n",
    "test_dataset = datasets.MNIST(\n",
    "    root=\"data\",\n",
    "    train=False,\n",
    "    download=True,\n",
    "    transform=T.ToTensor()\n",
    ")"
   ]
  },
  {
   "cell_type": "code",
   "execution_count": 106,
   "metadata": {},
   "outputs": [
    {
     "name": "stdout",
     "output_type": "stream",
     "text": [
      "Dataset MNIST\n",
      "    Number of datapoints: 60000\n",
      "    Root location: data\n",
      "    Split: Train\n",
      "    StandardTransform\n",
      "Transform: ToTensor()\n",
      "torch.Size([60000, 28, 28])\n",
      "torch.Size([60000])\n",
      "tensor([0, 1, 2, 3, 4, 5, 6, 7, 8, 9])\n",
      "tensor([5923, 6742, 5958, 6131, 5842, 5421, 5918, 6265, 5851, 5949])\n"
     ]
    }
   ],
   "source": [
    "print(training_dataset)\n",
    "print(training_dataset.data.shape)\n",
    "print(training_dataset.targets.shape)\n",
    "print(training_dataset.targets.unique())\n",
    "print(training_dataset.targets.bincount())"
   ]
  },
  {
   "cell_type": "code",
   "execution_count": 107,
   "metadata": {},
   "outputs": [
    {
     "data": {
      "image/png": "[encoded data removed]",
      "text/plain": [
       "<Figure size 800x800 with 9 Axes>"
      ]
     },
     "metadata": {},
     "output_type": "display_data"
    }
   ],
   "source": [
    "figure = plt.figure(figsize=(8, 8))\n",
    "cols, rows = 3, 3\n",
    "for i in range(1, cols * rows + 1):\n",
    "    sample_idx = torch.randint(len(training_dataset), size=(1,)).item()\n",
    "    img, label = training_dataset[sample_idx]\n",
    "    figure.add_subplot(rows, cols, i)\n",
    "    plt.title(label)\n",
    "    plt.axis(\"off\")\n",
    "    plt.imshow(img.squeeze(), cmap=\"gray\")\n",
    "plt.show()"
   ]
  },
  {
   "cell_type": "code",
   "execution_count": 108,
   "metadata": {},
   "outputs": [
    {
     "name": "stdout",
     "output_type": "stream",
     "text": [
      "shape X : torch.Size([64, 1, 28, 28])\n",
      "shape y : torch.Size([64])\n"
     ]
    }
   ],
   "source": [
    "from torch.utils.data import DataLoader\n",
    "\n",
    "batch_size = 64\n",
    "\n",
    "train_dataloader = DataLoader(training_dataset, batch_size, shuffle=True)\n",
    "test_dataloader = DataLoader(test_dataset, batch_size, shuffle=True)\n",
    "\n",
    "for X, y in test_dataloader:\n",
    "    print(f'shape X : {X.shape}')\n",
    "    print(f'shape y : {y.shape}')\n",
    "    break"
   ]
  },
  {
   "cell_type": "code",
   "execution_count": 109,
   "metadata": {},
   "outputs": [
    {
     "data": {
      "text/plain": [
       "torch.Size([64, 1, 28, 28])"
      ]
     },
     "execution_count": 109,
     "metadata": {},
     "output_type": "execute_result"
    }
   ],
   "source": [
    "train_features, train_labels = next(iter(train_dataloader))\n",
    "train_features.shape"
   ]
  },
  {
   "cell_type": "code",
   "execution_count": 110,
   "metadata": {},
   "outputs": [],
   "source": [
    "import torch.nn as nn\n",
    "\n",
    "class MLP(nn.Module):\n",
    "    def __init__(self, dims):\n",
    "        super(MLP, self).__init__()\n",
    "        self.fcs = nn.ModuleList(\n",
    "            [nn.Linear(dims[i], dims[i+1]) for i in range(len(dims) - 1)]\n",
    "        )\n",
    "        self.act = nn.ReLU()\n",
    "        self.flatten = nn.Flatten()\n",
    "\n",
    "    def forward(self, x): # fait : 1 * 28 * 28 --> 1 * 784\n",
    "        x = self.flatten(x)\n",
    "        for layer in self.fcs:\n",
    "            x = layer(x)\n",
    "            x = self.act(x)\n",
    "        return x"
   ]
  },
  {
   "cell_type": "code",
   "execution_count": 111,
   "metadata": {},
   "outputs": [
    {
     "data": {
      "text/plain": [
       "MLP(\n",
       "  (fcs): ModuleList(\n",
       "    (0): Linear(in_features=784, out_features=64, bias=True)\n",
       "    (1): Linear(in_features=64, out_features=64, bias=True)\n",
       "    (2): Linear(in_features=64, out_features=10, bias=True)\n",
       "  )\n",
       "  (act): ReLU()\n",
       "  (flatten): Flatten(start_dim=1, end_dim=-1)\n",
       ")"
      ]
     },
     "execution_count": 111,
     "metadata": {},
     "output_type": "execute_result"
    }
   ],
   "source": [
    "input_dim = 28*28\n",
    "output_dim = 10\n",
    "\n",
    "model = MLP([input_dim, 64, 64, output_dim])\n",
    "model"
   ]
  },
  {
   "cell_type": "code",
   "execution_count": 112,
   "metadata": {},
   "outputs": [],
   "source": [
    "loss_fn = nn.CrossEntropyLoss() # Expect raw logits\n",
    "optimizer = torch.optim.AdamW(model.parameters(), lr=1e-3)"
   ]
  },
  {
   "cell_type": "code",
   "execution_count": 113,
   "metadata": {},
   "outputs": [],
   "source": [
    "def train_loop(dataloader, model, loss_fn, optimizer):\n",
    "    model.train()\n",
    "    for batch, (X, y) in enumerate(dataloader):\n",
    "\n",
    "        # Prédiction\n",
    "        ypred = model(X)\n",
    "        loss = loss_fn(ypred, y)\n",
    "\n",
    "        # Backpropag\n",
    "        loss.backward()\n",
    "        optimizer.step() # W = W - lr * grad\n",
    "        optimizer.zero_grad()\n",
    "\n",
    "        if batch % 100 == 0:\n",
    "            loss, current = loss.item(), batch * batch_size * len(X)\n",
    "            print(f'loss {loss:>7f} [{current:>5d}/{len(dataloader.dataset)}]')\n",
    "\n",
    "def test_loop(dataloader, model, loss_fn):\n",
    "    model.eval()\n",
    "    test_loss, correct = 0, 0\n",
    "\n",
    "    with torch.no_grad():\n",
    "        for X, y in dataloader:\n",
    "            ypred = model(X)\n",
    "            test_loss += loss_fn(ypred, y).item()\n",
    "            correct += (ypred.argmax(1) == y).type(torch.float).sum().item()\n",
    "\n",
    "    test_loss/=len(dataloader)\n",
    "    correct/= len(dataloader.dataset)\n",
    "    print(f'Test loss : {test_loss:>8f} | test accuracy {(correct * 100):7f}')\n",
    "    \n"
   ]
  },
  {
   "cell_type": "code",
   "execution_count": 114,
   "metadata": {},
   "outputs": [
    {
     "name": "stdout",
     "output_type": "stream",
     "text": [
      "Epoch 1 ----------------------------------\n",
      "loss 2.312515 [    0/60000]\n",
      "loss 1.155215 [409600/60000]\n",
      "loss 0.799874 [819200/60000]\n",
      "loss 1.121224 [1228800/60000]\n",
      "loss 0.694312 [1638400/60000]\n",
      "loss 0.753214 [2048000/60000]\n",
      "loss 0.542040 [2457600/60000]\n",
      "loss 1.334459 [2867200/60000]\n",
      "loss 0.765149 [3276800/60000]\n",
      "loss 0.997707 [3686400/60000]\n",
      "Test loss : 0.857809 | test accuracy 66.090000\n",
      "Epoch 2 ----------------------------------\n",
      "loss 0.884832 [    0/60000]\n",
      "loss 0.774101 [409600/60000]\n",
      "loss 0.856421 [819200/60000]\n",
      "loss 0.679492 [1228800/60000]\n",
      "loss 0.765846 [1638400/60000]\n",
      "loss 0.853865 [2048000/60000]\n",
      "loss 0.910034 [2457600/60000]\n",
      "loss 0.631789 [2867200/60000]\n",
      "loss 0.737514 [3276800/60000]\n",
      "loss 0.861901 [3686400/60000]\n",
      "Test loss : 0.826085 | test accuracy 66.740000\n",
      "Epoch 3 ----------------------------------\n",
      "loss 0.463821 [    0/60000]\n",
      "loss 0.786426 [409600/60000]\n",
      "loss 0.687977 [819200/60000]\n",
      "loss 0.832266 [1228800/60000]\n",
      "loss 0.726807 [1638400/60000]\n",
      "loss 0.830062 [2048000/60000]\n",
      "loss 0.861519 [2457600/60000]\n",
      "loss 0.523559 [2867200/60000]\n",
      "loss 0.994312 [3276800/60000]\n",
      "loss 1.132332 [3686400/60000]\n",
      "Test loss : 0.809656 | test accuracy 67.310000\n",
      "Epoch 4 ----------------------------------\n",
      "loss 0.742625 [    0/60000]\n",
      "loss 0.626735 [409600/60000]\n",
      "loss 0.708977 [819200/60000]\n",
      "loss 0.569655 [1228800/60000]\n",
      "loss 0.517374 [1638400/60000]\n",
      "loss 0.718221 [2048000/60000]\n",
      "loss 0.731992 [2457600/60000]\n",
      "loss 0.882152 [2867200/60000]\n",
      "loss 0.719598 [3276800/60000]\n",
      "loss 0.770693 [3686400/60000]\n",
      "Test loss : 0.789495 | test accuracy 67.510000\n",
      "Epoch 5 ----------------------------------\n",
      "loss 0.870622 [    0/60000]\n",
      "loss 0.715435 [409600/60000]\n",
      "loss 0.838011 [819200/60000]\n",
      "loss 0.578491 [1228800/60000]\n",
      "loss 0.872697 [1638400/60000]\n",
      "loss 0.886780 [2048000/60000]\n",
      "loss 0.823016 [2457600/60000]\n",
      "loss 0.769689 [2867200/60000]\n",
      "loss 0.653457 [3276800/60000]\n",
      "loss 0.721934 [3686400/60000]\n",
      "Test loss : 0.783385 | test accuracy 67.580000\n",
      "Epoch 6 ----------------------------------\n",
      "loss 0.762426 [    0/60000]\n",
      "loss 0.934666 [409600/60000]\n",
      "loss 0.848582 [819200/60000]\n",
      "loss 0.742932 [1228800/60000]\n",
      "loss 0.891326 [1638400/60000]\n",
      "loss 0.826540 [2048000/60000]\n",
      "loss 0.805916 [2457600/60000]\n",
      "loss 0.656673 [2867200/60000]\n",
      "loss 0.866199 [3276800/60000]\n",
      "loss 0.629307 [3686400/60000]\n",
      "Test loss : 0.527325 | test accuracy 78.870000\n",
      "Epoch 7 ----------------------------------\n",
      "loss 0.263086 [    0/60000]\n",
      "loss 0.765505 [409600/60000]\n",
      "loss 0.677131 [819200/60000]\n",
      "loss 0.482565 [1228800/60000]\n",
      "loss 0.433083 [1638400/60000]\n",
      "loss 0.255231 [2048000/60000]\n",
      "loss 0.352527 [2457600/60000]\n",
      "loss 0.360263 [2867200/60000]\n",
      "loss 0.475124 [3276800/60000]\n",
      "loss 0.556043 [3686400/60000]\n",
      "Test loss : 0.524276 | test accuracy 78.980000\n",
      "Epoch 8 ----------------------------------\n",
      "loss 0.264220 [    0/60000]\n",
      "loss 0.500881 [409600/60000]\n",
      "loss 0.543658 [819200/60000]\n",
      "loss 0.298676 [1228800/60000]\n",
      "loss 0.368816 [1638400/60000]\n",
      "loss 0.302957 [2048000/60000]\n",
      "loss 0.313324 [2457600/60000]\n",
      "loss 0.306267 [2867200/60000]\n",
      "loss 0.400146 [3276800/60000]\n",
      "loss 0.588553 [3686400/60000]\n",
      "Test loss : 0.522199 | test accuracy 78.900000\n",
      "Epoch 9 ----------------------------------\n",
      "loss 0.327703 [    0/60000]\n",
      "loss 0.399639 [409600/60000]\n",
      "loss 0.391211 [819200/60000]\n",
      "loss 0.368270 [1228800/60000]\n",
      "loss 0.632870 [1638400/60000]\n",
      "loss 0.537220 [2048000/60000]\n",
      "loss 0.439629 [2457600/60000]\n",
      "loss 0.619970 [2867200/60000]\n",
      "loss 0.703820 [3276800/60000]\n",
      "loss 0.329836 [3686400/60000]\n",
      "Test loss : 0.521161 | test accuracy 78.890000\n",
      "Epoch 10 ----------------------------------\n",
      "loss 0.552590 [    0/60000]\n",
      "loss 0.612547 [409600/60000]\n",
      "loss 0.569430 [819200/60000]\n",
      "loss 0.540358 [1228800/60000]\n",
      "loss 0.411515 [1638400/60000]\n",
      "loss 0.537701 [2048000/60000]\n",
      "loss 0.565285 [2457600/60000]\n",
      "loss 0.390627 [2867200/60000]\n",
      "loss 0.531041 [3276800/60000]\n",
      "loss 0.476269 [3686400/60000]\n",
      "Test loss : 0.518559 | test accuracy 79.010000\n",
      "Done !\n"
     ]
    }
   ],
   "source": [
    "epochs = 10\n",
    "for t in range(epochs):\n",
    "    print(f'Epoch {t+1} ----------------------------------')\n",
    "    train_loop(train_dataloader, model, loss_fn, optimizer)\n",
    "    test_loop(test_dataloader, model, loss_fn)\n",
    "\n",
    "print(\"Done !\")\n"
   ]
  },
  {
   "cell_type": "code",
   "execution_count": null,
   "metadata": {},
   "outputs": [],
   "source": []
  }
 ],
 "metadata": {
  "kernelspec": {
   "display_name": ".venv",
   "language": "python",
   "name": "python3"
  },
  "language_info": {
   "codemirror_mode": {
    "name": "ipython",
    "version": 3
   },
   "file_extension": ".py",
   "mimetype": "text/x-python",
   "name": "python",
   "nbconvert_exporter": "python",
   "pygments_lexer": "ipython3",
   "version": "3.11.9"
  }
 },
 "nbformat": 4,
 "nbformat_minor": 2
}
